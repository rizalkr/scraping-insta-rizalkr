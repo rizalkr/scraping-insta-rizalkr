{
  "nbformat": 4,
  "nbformat_minor": 0,
  "metadata": {
    "colab": {
      "provenance": []
    },
    "kernelspec": {
      "name": "python3",
      "display_name": "Python 3"
    },
    "language_info": {
      "name": "python"
    }
  },
  "cells": [
    {
      "cell_type": "code",
      "execution_count": null,
      "metadata": {
        "id": "_Grc56clR_-b"
      },
      "outputs": [],
      "source": [
        "# Install Instaloader library if not installed\n",
        "!pip install instaloader\n",
        "\n",
        "import instaloader\n",
        "import zipfile\n",
        "import os\n",
        "\n",
        "# Create Instaloader object\n",
        "loader = instaloader.Instaloader()\n",
        "\n",
        "# Dummy account login\n",
        "username = \"dummy account\"\n",
        "password = \"dummy account\"\n",
        "\n",
        "try:\n",
        "    loader.context.log(\"Logging in ...\")\n",
        "    loader.interactive_login(username)  # Interactive login each time the script runs\n",
        "\n",
        "    # After successful login, proceed with scraping\n",
        "    # Specify target username\n",
        "    target_username = \"target username to scrape\"\n",
        "\n",
        "    # Retrieve user profile\n",
        "    profile = instaloader.Profile.from_username(loader.context, target_username)\n",
        "\n",
        "    # Print profile information\n",
        "    print(\"Username:\", profile.username)\n",
        "    print(\"Full Name:\", profile.full_name)\n",
        "    print(\"Bio:\", profile.biography)\n",
        "    print(\"Number of Posts:\", profile.mediacount)\n",
        "    print(\"Followers:\", profile.followers)\n",
        "    print(\"Following:\", profile.followees)\n",
        "\n",
        "    # Directory to save ZIP file\n",
        "    save_folder = f\"result\"\n",
        "    os.makedirs(save_folder, exist_ok=True)\n",
        "\n",
        "    # Download all posts (including photos and videos)\n",
        "    loader.download_profile(target_username, profile_pic_only=False)\n",
        "\n",
        "    # Create ZIP file with appropriate name\n",
        "    zip_file = f\"result.zip\"\n",
        "    with zipfile.ZipFile(zip_file, 'w') as zf:\n",
        "        # Add all downloaded files to ZIP\n",
        "        for foldername, subfolders, filenames in os.walk(save_folder):\n",
        "            for filename in filenames:\n",
        "                file_path = os.path.join(foldername, filename)\n",
        "                arcname = os.path.relpath(file_path, os.path.join(save_folder, \"..\"))\n",
        "                zf.write(file_path, arcname=arcname)\n",
        "\n",
        "    print(f\"Download completed. ZIP file saved as {zip_file}.\")\n",
        "\n",
        "except instaloader.exceptions.InstaloaderException as e:\n",
        "    print(f\"Error: {str(e)}\")"
      ]
    },
    {
      "cell_type": "code",
      "source": [
        "import zipfile\n",
        "import os\n",
        "\n",
        "# Directory to be compressed into ZIP\n",
        "folder_to_zip = 'result'\n",
        "\n",
        "# ZIP file name to be created\n",
        "zip_file = 'result_posts.zip'\n",
        "\n",
        "try:\n",
        "    # Create ZIP file\n",
        "    with zipfile.ZipFile(zip_file, 'w', zipfile.ZIP_DEFLATED) as zf:\n",
        "        # Traverse through the directory\n",
        "        for foldername, subfolders, filenames in os.walk(folder_to_zip):\n",
        "            for filename in filenames:\n",
        "                # Get the path to the file\n",
        "                file_path = os.path.join(foldername, filename)\n",
        "\n",
        "                # Check if the file has .jpg or .mp4 extension\n",
        "                if filename.lower().endswith(('.jpg', '.mp4')):\n",
        "                    # Add file to ZIP with relative path\n",
        "                    zf.write(file_path, os.path.relpath(file_path, folder_to_zip))\n",
        "\n",
        "    print(f\"Folder '{folder_to_zip}' successfully compressed into '{zip_file}'.\")\n",
        "\n",
        "except Exception as e:\n",
        "    print(f\"Error: {str(e)}\")\n"
      ],
      "metadata": {
        "id": "3spOM3HoTGaM"
      },
      "execution_count": null,
      "outputs": []
    },
    {
      "cell_type": "code",
      "source": [
        "import os\n",
        "\n",
        "# Directory to be cleaned\n",
        "folder_path = 'result'\n",
        "\n",
        "try:\n",
        "    # Loop through all files in the directory\n",
        "    for filename in os.listdir(folder_path):\n",
        "        file_path = os.path.join(folder_path, filename)\n",
        "\n",
        "        # Check if the path is a file and not a directory\n",
        "        if os.path.isfile(file_path):\n",
        "            # Check if the file does not have .jpg or .mp4 extension\n",
        "            if not filename.lower().endswith(('.jpg', '.mp4')):\n",
        "                # Delete the file\n",
        "                os.remove(file_path)\n",
        "                print(f\"File {filename} deleted.\")\n",
        "\n",
        "    print(\"Cleanup completed.\")\n",
        "\n",
        "except Exception as e:\n",
        "    print(f\"Error: {str(e)}\")\n"
      ],
      "metadata": {
        "id": "3VxeEXhfT98k"
      },
      "execution_count": null,
      "outputs": []
    }
  ]
}